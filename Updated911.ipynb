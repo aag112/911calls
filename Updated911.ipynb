{
  "nbformat": 4,
  "nbformat_minor": 0,
  "metadata": {
    "colab": {
      "name": "Updated911.ipynb",
      "provenance": [],
      "authorship_tag": "ABX9TyP3rQqbBCZeZDXDnrJ/gHOg",
      "include_colab_link": true
    },
    "kernelspec": {
      "name": "python3",
      "display_name": "Python 3"
    }
  },
  "cells": [
    {
      "cell_type": "markdown",
      "metadata": {
        "id": "view-in-github",
        "colab_type": "text"
      },
      "source": [
        "<a href=\"https://colab.research.google.com/github/aag112/911calls/blob/master/Updated911.ipynb\" target=\"_parent\"><img src=\"https://colab.research.google.com/assets/colab-badge.svg\" alt=\"Open In Colab\"/></a>"
      ]
    },
    {
      "cell_type": "code",
      "metadata": {
        "id": "Lpga53epewtb"
      },
      "source": [
        "import pandas as pd\n",
        "import numpy as np\n",
        "import seaborn as sns\n",
        "import matplotlib.pyplot as plt\n",
        "sns.set()"
      ],
      "execution_count": null,
      "outputs": []
    },
    {
      "cell_type": "code",
      "metadata": {
        "colab": {
          "base_uri": "https://localhost:8080/"
        },
        "id": "9mq1u4nWe4o7",
        "outputId": "87ccb083-5045-4f6f-ce77-35925d903158"
      },
      "source": [
        "from google.colab import drive\n",
        "drive.mount('/content/drive')"
      ],
      "execution_count": null,
      "outputs": [
        {
          "output_type": "stream",
          "text": [
            "Drive already mounted at /content/drive; to attempt to forcibly remount, call drive.mount(\"/content/drive\", force_remount=True).\n"
          ],
          "name": "stdout"
        }
      ]
    },
    {
      "cell_type": "code",
      "metadata": {
        "id": "3qYv1TjQfEFS"
      },
      "source": [
        "df = pd.read_csv('/content/drive/MyDrive/Colab Notebooks/Data/911.csv')"
      ],
      "execution_count": null,
      "outputs": []
    },
    {
      "cell_type": "markdown",
      "metadata": {
        "id": "hISE0ZzmfMX9"
      },
      "source": [
        "#1.What zip code had the most 911 calls?"
      ]
    },
    {
      "cell_type": "code",
      "metadata": {
        "colab": {
          "base_uri": "https://localhost:8080/"
        },
        "id": "zSSj1QSWfG6O",
        "outputId": "046d510d-059f-4138-9459-6efd1b6b52f1"
      },
      "source": [
        "print('The top 10 zip codes with the most 911 calls were: \\n', df['zip'].value_counts().head(10))"
      ],
      "execution_count": null,
      "outputs": [
        {
          "output_type": "stream",
          "text": [
            "The top 10 zip codes with the most 911 calls were: \n",
            " 19401.0    6979\n",
            "19464.0    6643\n",
            "19403.0    4854\n",
            "19446.0    4748\n",
            "19406.0    3174\n",
            "19002.0    3050\n",
            "19468.0    2990\n",
            "19454.0    2781\n",
            "19090.0    2635\n",
            "19038.0    2578\n",
            "Name: zip, dtype: int64\n"
          ],
          "name": "stdout"
        }
      ]
    },
    {
      "cell_type": "markdown",
      "metadata": {
        "id": "bP07vAmIgTV_"
      },
      "source": [
        "#2.Whats the most common call reason?"
      ]
    },
    {
      "cell_type": "code",
      "metadata": {
        "colab": {
          "base_uri": "https://localhost:8080/"
        },
        "id": "4KyFfjLIgTt3",
        "outputId": "43ddd468-311c-4994-d3a5-9ed2879457b9"
      },
      "source": [
        "print('The most common call reason was:\\n',df['title'].value_counts().head(1))"
      ],
      "execution_count": null,
      "outputs": [
        {
          "output_type": "stream",
          "text": [
            "The most common call reason was:\n",
            " Traffic: VEHICLE ACCIDENT -    23066\n",
            "Name: title, dtype: int64\n"
          ],
          "name": "stdout"
        }
      ]
    },
    {
      "cell_type": "markdown",
      "metadata": {
        "id": "YNIiPkp1gkib"
      },
      "source": [
        "#3.Which town had the least amount of 911 calls?"
      ]
    },
    {
      "cell_type": "code",
      "metadata": {
        "colab": {
          "base_uri": "https://localhost:8080/"
        },
        "id": "EPrrZfpFgnbI",
        "outputId": "2ac8b9fe-fadd-422c-f7a0-26715649f3fd"
      },
      "source": [
        "print('The town with the least amount of 911 calls was:\\n',df['twp'].value_counts().tail(1))"
      ],
      "execution_count": null,
      "outputs": [
        {
          "output_type": "stream",
          "text": [
            "The town with the least amount of 911 calls was:\n",
            " LEHIGH COUNTY    30\n",
            "Name: twp, dtype: int64\n"
          ],
          "name": "stdout"
        }
      ]
    },
    {
      "cell_type": "markdown",
      "metadata": {
        "id": "W1ntdf5Fg6Uw"
      },
      "source": [
        "#3b.What were the top 4 towns with the most amount of calls?"
      ]
    },
    {
      "cell_type": "code",
      "metadata": {
        "colab": {
          "base_uri": "https://localhost:8080/"
        },
        "id": "lybachdxg9uS",
        "outputId": "57ea8bd7-1f7c-4049-e618-387bba3597a3"
      },
      "source": [
        "print('The top four towns with the most amount of calls were:\\n', pd.value_counts(df['twp']).iloc[:4])"
      ],
      "execution_count": null,
      "outputs": [
        {
          "output_type": "stream",
          "text": [
            "The top four towns with the most amount of calls were:\n",
            " LOWER MERION    8443\n",
            "ABINGTON        5977\n",
            "NORRISTOWN      5890\n",
            "UPPER MERION    5227\n",
            "Name: twp, dtype: int64\n"
          ],
          "name": "stdout"
        }
      ]
    },
    {
      "cell_type": "markdown",
      "metadata": {
        "id": "Paz9llPMhMIC"
      },
      "source": [
        "#Plot based on towns and how many calls were reported on each town"
      ]
    },
    {
      "cell_type": "code",
      "metadata": {
        "colab": {
          "base_uri": "https://localhost:8080/",
          "height": 320
        },
        "id": "PPawsiqXhQnx",
        "outputId": "50b2d423-0fd9-4366-e64b-640a2f23e58d"
      },
      "source": [
        "print('How Many Calls Were Reported In Each Town \\n', sns.countplot(x='twp', data=df,palette='ch:s=.25,rot=-.25', order=df.twp.value_counts().iloc[:4].index))"
      ],
      "execution_count": null,
      "outputs": [
        {
          "output_type": "stream",
          "text": [
            "How Many Calls Were Reported In Each Town \n",
            " AxesSubplot(0.125,0.125;0.775x0.755)\n"
          ],
          "name": "stdout"
        },
        {
          "output_type": "display_data",
          "data": {
            "image/png": "[encoded data removed]",
            "text/plain": [
              "<Figure size 432x288 with 1 Axes>"
            ]
          },
          "metadata": {
            "tags": [],
            "needs_background": "light"
          }
        }
      ]
    },
    {
      "cell_type": "markdown",
      "metadata": {
        "id": "AXXupD0fh7v7"
      },
      "source": [
        "#4.What was the most recent 911 call?"
      ]
    },
    {
      "cell_type": "code",
      "metadata": {
        "colab": {
          "base_uri": "https://localhost:8080/"
        },
        "id": "SOErntfqiCL4",
        "outputId": "de5c761d-237b-4465-89e0-bf6d384d6f9c"
      },
      "source": [
        "df['timeStamp'].max()\n",
        "print('Our data shows that the most recent call was on: '+ str(df['timeStamp'].max()))"
      ],
      "execution_count": null,
      "outputs": [
        {
          "output_type": "stream",
          "text": [
            "Our data shows that the most recent call was on: 2016-08-24 11:17:02\n"
          ],
          "name": "stdout"
        }
      ]
    },
    {
      "cell_type": "markdown",
      "metadata": {
        "id": "qBNm61hDiJqO"
      },
      "source": [
        "#5.How many 911 calls per year?"
      ]
    },
    {
      "cell_type": "code",
      "metadata": {
        "colab": {
          "base_uri": "https://localhost:8080/"
        },
        "id": "4qZzlMAfiNe1",
        "outputId": "77c24555-c46c-4156-cafb-197a1dd903e0"
      },
      "source": [
        "df['timeStamp'] = pd.to_datetime(df['timeStamp'], format='%Y-%m-%d %H:%M:%S')\n",
        "time = df['timeStamp'].iloc[0]\n",
        "\n",
        "df['Year'] = df['timeStamp'].apply(lambda x: x.year)\n",
        "\n",
        "print('The number of 911 calls per year:\\n', df.groupby('Year').count()['twp'])"
      ],
      "execution_count": null,
      "outputs": [
        {
          "output_type": "stream",
          "text": [
            "The number of 911 calls per year:\n",
            " Year\n",
            "2015     7963\n",
            "2016    91486\n",
            "Name: twp, dtype: int64\n"
          ],
          "name": "stdout"
        }
      ]
    },
    {
      "cell_type": "code",
      "metadata": {
        "colab": {
          "base_uri": "https://localhost:8080/"
        },
        "id": "jEU4yl7_wmr4",
        "outputId": "11b6ade0-96ce-492e-f159-5eed059a3bf4"
      },
      "source": [
        "userInput = input(\"Please type a towns name: \")\n",
        "print(f\"The amount of calls in town {userInput.upper()} are {df[df.twp == userInput.upper()].shape[0]}\")"
      ],
      "execution_count": null,
      "outputs": [
        {
          "output_type": "stream",
          "text": [
            "Please type a towns name: Lower Merion\n",
            "The amount of calls in town LOWER MERION are 8443\n"
          ],
          "name": "stdout"
        }
      ]
    },
    {
      "cell_type": "code",
      "metadata": {
        "colab": {
          "base_uri": "https://localhost:8080/"
        },
        "id": "NcDhNb8AuNSa",
        "outputId": "75793506-1d4f-4c50-cd9d-64df84766a54"
      },
      "source": [
        "df['timeStamp'].value_counts(normalize = True)"
      ],
      "execution_count": null,
      "outputs": [
        {
          "output_type": "execute_result",
          "data": {
            "text/plain": [
              "2015-12-10 17:40:01    0.00008\n",
              "2016-04-21 17:57:01    0.00007\n",
              "2015-12-23 14:12:01    0.00007\n",
              "2015-12-23 16:07:01    0.00006\n",
              "2016-03-09 19:07:01    0.00006\n",
              "                        ...   \n",
              "2016-01-17 15:37:00    0.00001\n",
              "2016-06-18 03:46:00    0.00001\n",
              "2016-08-21 13:32:01    0.00001\n",
              "2016-05-25 17:47:00    0.00001\n",
              "2016-02-07 01:17:01    0.00001\n",
              "Name: timeStamp, Length: 72577, dtype: float64"
            ]
          },
          "metadata": {
            "tags": []
          },
          "execution_count": 26
        }
      ]
    }
  ]
}